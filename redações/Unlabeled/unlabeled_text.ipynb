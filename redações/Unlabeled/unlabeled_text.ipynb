{
 "metadata": {
  "language_info": {
   "codemirror_mode": {
    "name": "ipython",
    "version": 3
   },
   "file_extension": ".py",
   "mimetype": "text/x-python",
   "name": "python",
   "nbconvert_exporter": "python",
   "pygments_lexer": "ipython3",
   "version": "3.8.5-final"
  },
  "orig_nbformat": 2,
  "kernelspec": {
   "name": "python3",
   "display_name": "Python 3.8.5 64-bit ('envDefault': venv)",
   "metadata": {
    "interpreter": {
     "hash": "7569cdafdd0fbac8a06362258c89059823a624da1480ad35a560c93b353fa607"
    }
   }
  }
 },
 "nbformat": 4,
 "nbformat_minor": 2,
 "cells": [
  {
   "cell_type": "code",
   "execution_count": 1,
   "metadata": {},
   "outputs": [],
   "source": [
    "import pandas as pd"
   ]
  },
  {
   "source": [
    "\n",
    "## Criar datasets:\n",
    "- csv contendo apenas os unlabeleds: unlabeled.csv\n",
    "- csv contendo todos\n",
    "\n",
    "\n",
    "formato: id - label - text"
   ],
   "cell_type": "markdown",
   "metadata": {}
  },
  {
   "cell_type": "code",
   "execution_count": 2,
   "metadata": {},
   "outputs": [],
   "source": [
    "\n",
    "all_dataset = pd.read_csv('all_dataset.csv')"
   ]
  },
  {
   "cell_type": "code",
   "execution_count": 8,
   "metadata": {},
   "outputs": [
    {
     "output_type": "execute_result",
     "data": {
      "text/plain": [
       "     label                                               text   id\n",
       "0        0  Segundo a Organização das Nações Unidas – ONU ...   51\n",
       "1        0  Logo, é uma questão sistêmica por agregar defi...   52\n",
       "2        1  Portanto, é imprescindível que exista uma reav...   53\n",
       "3        1  Com base nessas considerações, é perceptível q...   54\n",
       "4        0  Desse modo, não adianta abordar mudanças na ed...   55\n",
       "..     ...                                                ...  ...\n",
       "653      1  Porém ela acaba tornando-se ineficaz, por falt...  704\n",
       "654      1  Muitas mulheres têm medo de denunciarem seus a...  705\n",
       "655      1  Os acometedores, muitas vezes, também são desi...  706\n",
       "656      1  Com isso, é dever do Estado proteger as mulher...  707\n",
       "657      1  Assim como um maior investimento em educação c...  708\n",
       "\n",
       "[658 rows x 3 columns]"
      ],
      "text/html": "<div>\n<style scoped>\n    .dataframe tbody tr th:only-of-type {\n        vertical-align: middle;\n    }\n\n    .dataframe tbody tr th {\n        vertical-align: top;\n    }\n\n    .dataframe thead th {\n        text-align: right;\n    }\n</style>\n<table border=\"1\" class=\"dataframe\">\n  <thead>\n    <tr style=\"text-align: right;\">\n      <th></th>\n      <th>label</th>\n      <th>text</th>\n      <th>id</th>\n    </tr>\n  </thead>\n  <tbody>\n    <tr>\n      <th>0</th>\n      <td>0</td>\n      <td>Segundo a Organização das Nações Unidas – ONU ...</td>\n      <td>51</td>\n    </tr>\n    <tr>\n      <th>1</th>\n      <td>0</td>\n      <td>Logo, é uma questão sistêmica por agregar defi...</td>\n      <td>52</td>\n    </tr>\n    <tr>\n      <th>2</th>\n      <td>1</td>\n      <td>Portanto, é imprescindível que exista uma reav...</td>\n      <td>53</td>\n    </tr>\n    <tr>\n      <th>3</th>\n      <td>1</td>\n      <td>Com base nessas considerações, é perceptível q...</td>\n      <td>54</td>\n    </tr>\n    <tr>\n      <th>4</th>\n      <td>0</td>\n      <td>Desse modo, não adianta abordar mudanças na ed...</td>\n      <td>55</td>\n    </tr>\n    <tr>\n      <th>...</th>\n      <td>...</td>\n      <td>...</td>\n      <td>...</td>\n    </tr>\n    <tr>\n      <th>653</th>\n      <td>1</td>\n      <td>Porém ela acaba tornando-se ineficaz, por falt...</td>\n      <td>704</td>\n    </tr>\n    <tr>\n      <th>654</th>\n      <td>1</td>\n      <td>Muitas mulheres têm medo de denunciarem seus a...</td>\n      <td>705</td>\n    </tr>\n    <tr>\n      <th>655</th>\n      <td>1</td>\n      <td>Os acometedores, muitas vezes, também são desi...</td>\n      <td>706</td>\n    </tr>\n    <tr>\n      <th>656</th>\n      <td>1</td>\n      <td>Com isso, é dever do Estado proteger as mulher...</td>\n      <td>707</td>\n    </tr>\n    <tr>\n      <th>657</th>\n      <td>1</td>\n      <td>Assim como um maior investimento em educação c...</td>\n      <td>708</td>\n    </tr>\n  </tbody>\n</table>\n<p>658 rows × 3 columns</p>\n</div>"
     },
     "metadata": {},
     "execution_count": 8
    }
   ],
   "source": [
    "all_dataset"
   ]
  },
  {
   "cell_type": "code",
   "execution_count": 10,
   "metadata": {},
   "outputs": [],
   "source": [
    "ids = [i for i in range(51, 709)]\n",
    "all_dataset['id'] = ids\n",
    "all_dataset = all_dataset[['id', 'label', 'text']]"
   ]
  },
  {
   "cell_type": "code",
   "execution_count": 14,
   "metadata": {},
   "outputs": [],
   "source": [
    "all_dataset['label'] = all_dataset['label'].apply(lambda x: 'argumento' if x==1 else 'nao_argumento' )"
   ]
  },
  {
   "cell_type": "code",
   "execution_count": 16,
   "metadata": {},
   "outputs": [],
   "source": [
    "all_dataset.to_csv('all_dataset.csv', index=False)"
   ]
  },
  {
   "cell_type": "code",
   "execution_count": 18,
   "metadata": {},
   "outputs": [],
   "source": [
    "unlabeled = all_dataset[all_dataset['label'] == 'nao_argumento']\n",
    "unlabeled.to_csv('unlabeled.csv', index=False)"
   ]
  },
  {
   "cell_type": "code",
   "execution_count": null,
   "metadata": {},
   "outputs": [],
   "source": []
  }
 ]
}