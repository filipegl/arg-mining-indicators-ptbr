{
 "metadata": {
  "language_info": {
   "codemirror_mode": {
    "name": "ipython",
    "version": 3
   },
   "file_extension": ".py",
   "mimetype": "text/x-python",
   "name": "python",
   "nbconvert_exporter": "python",
   "pygments_lexer": "ipython3",
   "version": "3.8.5"
  },
  "orig_nbformat": 2,
  "kernelspec": {
   "name": "python3",
   "display_name": "Python 3.8.5 64-bit",
   "metadata": {
    "interpreter": {
     "hash": "7569cdafdd0fbac8a06362258c89059823a624da1480ad35a560c93b353fa607"
    }
   }
  }
 },
 "nbformat": 4,
 "nbformat_minor": 2,
 "cells": [
  {
   "cell_type": "code",
   "execution_count": 21,
   "metadata": {},
   "outputs": [],
   "source": [
    "import pandas as pd\n",
    "import os\n",
    "import nltk"
   ]
  },
  {
   "cell_type": "code",
   "execution_count": 22,
   "metadata": {},
   "outputs": [],
   "source": [
    "sent_tokenizer=nltk.data.load('tokenizers/punkt/portuguese.pickle')"
   ]
  },
  {
   "cell_type": "code",
   "execution_count": 54,
   "metadata": {},
   "outputs": [],
   "source": [
    "all_files = [n.split('.')[0] for n in sorted(os.listdir('.')) if n.endswith('.ann')]\n",
    "all_dfs = []\n",
    "for file_name in all_files:\n",
    "    df = pd.read_csv(f'{file_name}.ann', sep='\\t', names=['id', 'label', 'text']).dropna()\n",
    "    df['label'] = df['label'].apply(lambda x: x.split()[0])\n",
    "\n",
    "    with open(f'{file_name}.txt') as f:\n",
    "        paragraphs = f.read().split('\\n')[1:]\n",
    "\n",
    "    sentences = list()\n",
    "    for p in paragraphs:\n",
    "        sentences += sent_tokenizer.tokenize(p)\n",
    "\n",
    "    not_arg = [s for s in sentences if s not in df['text'].to_list()]\n",
    "\n",
    "    for txt in not_arg:\n",
    "        df = df.append({'label': 'nao_argumento', 'text': txt}, ignore_index=True)\n",
    "\n",
    "    df['id'] = int(file_name[3:5])\n",
    "    all_dfs.append(df)"
   ]
  },
  {
   "cell_type": "code",
   "execution_count": 64,
   "metadata": {},
   "outputs": [],
   "source": [
    "pd.concat(all_dfs, ignore_index=True).to_csv('redacoes_extraidas_com_nao_argumento.csv', index=False)"
   ]
  },
  {
   "source": [
    "# check title"
   ],
   "cell_type": "markdown",
   "metadata": {}
  },
  {
   "cell_type": "code",
   "execution_count": 65,
   "metadata": {},
   "outputs": [],
   "source": [
    "all_texts = [n for n in sorted(os.listdir('.')) if n.endswith('.txt')]\n"
   ]
  },
  {
   "cell_type": "code",
   "execution_count": 66,
   "metadata": {
    "tags": []
   },
   "outputs": [
    {
     "output_type": "stream",
     "name": "stdout",
     "text": [
      "Criminalidade entre jovens, uma problemática social\nredação sem título\nCaminhos Tortuosos\nSonhando o sonho do treinador Carter\nEquiparação de direitos\nredação sem título\nAlegoria Algorítmica\nLente Divergente\nLuta contra a manipulação\nO controle Midiático\nredação sem título\nredação sem título\nIndianismo contemporâneo\nQuestões Indígenas, uma discussão social\nSociedade e população indígena\nO passado recria o presente\nredação sem título\nredação sem título\nredação sem título\nredação sem título\nAtaque dos defensivos\nO uso de agrotóxicos, uma discussaõ social\nOs frutos do agronegócio\nVenenos alimentícios\nredação sem título\nredação sem título\nO fantasma DST volta a ter forças\nIdeologia e DSTs \nGerações X, Y e Z contra as DSTs\nA desinformação sobre as DSTs\nliquidez suicida\nNão tem título\nSuicídos no Brasil atual \nSuicídio entre jovens: um manifesto contra a pressão social\nredação sem título\nFake news uma problemática social\nredação sem título\nDisseminação em massa de notícias falsas\nredação sem título\nredação sem título\nredação sem título\nredação sem título\nredação sem título\nredação sem título\nAs pessoas precisam aprender a lidar com as diferenças \nredação sem título\nredação sem título\nredação sem título\nredação sem título\nTrágica herança histórica\n"
     ]
    }
   ],
   "source": [
    "for t in all_texts:\n",
    "    with open(t) as f:\n",
    "        print(f.read().split('\\n')[0])"
   ]
  },
  {
   "cell_type": "code",
   "execution_count": null,
   "metadata": {},
   "outputs": [],
   "source": []
  }
 ]
}