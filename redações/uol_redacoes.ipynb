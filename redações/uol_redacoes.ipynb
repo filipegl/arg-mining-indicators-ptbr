{
 "metadata": {
  "language_info": {
   "codemirror_mode": {
    "name": "ipython",
    "version": 3
   },
   "file_extension": ".py",
   "mimetype": "text/x-python",
   "name": "python",
   "nbconvert_exporter": "python",
   "pygments_lexer": "ipython3",
   "version": "3.8.5-final"
  },
  "orig_nbformat": 2,
  "kernelspec": {
   "name": "python3",
   "display_name": "Python 3.8.5 64-bit ('envDefault': venv)",
   "metadata": {
    "interpreter": {
     "hash": "7569cdafdd0fbac8a06362258c89059823a624da1480ad35a560c93b353fa607"
    }
   }
  }
 },
 "nbformat": 4,
 "nbformat_minor": 2,
 "cells": [
  {
   "cell_type": "code",
   "execution_count": 2,
   "metadata": {},
   "outputs": [],
   "source": [
    "import uol_redacoes_xml"
   ]
  },
  {
   "cell_type": "code",
   "execution_count": 3,
   "metadata": {},
   "outputs": [
    {
     "output_type": "stream",
     "name": "stderr",
     "text": [
      "UOL essays load warnings: \n",
      "No text  ->  3\n",
      "Final score != from sum of criteria score  ->  45\n",
      "Not 5 criteria  ->  7\n",
      "Total warnings: 55\n"
     ]
    }
   ],
   "source": [
    "essays = uol_redacoes_xml.load()"
   ]
  },
  {
   "cell_type": "code",
   "execution_count": 7,
   "metadata": {},
   "outputs": [
    {
     "output_type": "stream",
     "name": "stdout",
     "text": [
      "['title', 'text', 'criteria_scores', 'final_score', 'prompt', 'url', 'fixed_text', 'errors', 'comments', 'get_features']\n"
     ]
    }
   ],
   "source": [
    "print([attr for attr in essays[0].__dir__() if not attr.startswith('_')])"
   ]
  },
  {
   "cell_type": "code",
   "execution_count": 21,
   "metadata": {},
   "outputs": [
    {
     "output_type": "execute_result",
     "data": {
      "text/plain": [
       "[1243, 225, 4, 310.75, 139, 161.8705035971223, 5.524444444444445]"
      ]
     },
     "metadata": {},
     "execution_count": 21
    }
   ],
   "source": [
    "feature_names = ['chars_count',\n",
    "'words_count',\n",
    "'paragraphs_count',\n",
    "'paragraphs_size_avg',\n",
    "'unique_words_count',\n",
    "'repetition_avg',\n",
    "'word_length_avg']\n",
    "essays[0].get_features(feature_names)"
   ]
  },
  {
   "cell_type": "code",
   "execution_count": null,
   "metadata": {},
   "outputs": [],
   "source": []
  }
 ]
}