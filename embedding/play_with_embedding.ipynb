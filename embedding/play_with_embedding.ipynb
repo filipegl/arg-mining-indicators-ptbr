{
 "metadata": {
  "language_info": {
   "codemirror_mode": {
    "name": "ipython",
    "version": 3
   },
   "file_extension": ".py",
   "mimetype": "text/x-python",
   "name": "python",
   "nbconvert_exporter": "python",
   "pygments_lexer": "ipython3",
   "version": "3.8.5"
  },
  "orig_nbformat": 2,
  "kernelspec": {
   "name": "python3",
   "display_name": "Python 3.8.5 64-bit",
   "metadata": {
    "interpreter": {
     "hash": "7569cdafdd0fbac8a06362258c89059823a624da1480ad35a560c93b353fa607"
    }
   }
  }
 },
 "nbformat": 4,
 "nbformat_minor": 2,
 "cells": [
  {
   "cell_type": "code",
   "execution_count": 1,
   "metadata": {},
   "outputs": [],
   "source": [
    "from gensim.models import KeyedVectors"
   ]
  },
  {
   "cell_type": "code",
   "execution_count": 2,
   "metadata": {},
   "outputs": [
    {
     "output_type": "stream",
     "name": "stdout",
     "text": [
      "CPU times: user 3min 9s, sys: 4.88 s, total: 3min 14s\nWall time: 3min 14s\n"
     ]
    }
   ],
   "source": [
    "%%time\n",
    "model = KeyedVectors.load_word2vec_format('w2v-v1.wordvectors')"
   ]
  },
  {
   "cell_type": "code",
   "execution_count": 10,
   "metadata": {},
   "outputs": [
    {
     "output_type": "execute_result",
     "data": {
      "text/plain": [
       "[('rivaldo', 0.7069272994995117),\n",
       " ('bebeto', 0.7052544951438904),\n",
       " ('romário', 0.7040537595748901),\n",
       " ('kaká', 0.690711498260498),\n",
       " ('jairzinho', 0.6809101700782776),\n",
       " ('robinho', 0.6795006990432739),\n",
       " ('neymar', 0.6774123907089233),\n",
       " ('edílson', 0.6661553382873535),\n",
       " ('marquinhos', 0.6660997271537781),\n",
       " ('raí', 0.6646865010261536)]"
      ]
     },
     "metadata": {},
     "execution_count": 10
    }
   ],
   "source": [
    "model.most_similar('ronaldo')"
   ]
  },
  {
   "cell_type": "code",
   "execution_count": 11,
   "metadata": {},
   "outputs": [
    {
     "output_type": "execute_result",
     "data": {
      "text/plain": [
       "15.232047080993652"
      ]
     },
     "metadata": {},
     "execution_count": 11
    }
   ],
   "source": [
    "model.wmdistance(['ronaldo'], ['rivaldo'])"
   ]
  },
  {
   "source": [
    "Verificação de indicadores generalistas"
   ],
   "cell_type": "markdown",
   "metadata": {}
  },
  {
   "cell_type": "code",
   "execution_count": 3,
   "metadata": {},
   "outputs": [],
   "source": [
    "with open('../Indicadores/unigrams_indicators_to_analyse.txt') as f:\n",
    "    unigrams = [w.rstrip() for w in f.readlines()]"
   ]
  },
  {
   "cell_type": "code",
   "execution_count": 4,
   "metadata": {},
   "outputs": [
    {
     "output_type": "execute_result",
     "data": {
      "text/plain": [
       "'praticamente'"
      ]
     },
     "metadata": {},
     "execution_count": 4
    }
   ],
   "source": [
    "unigrams[0]"
   ]
  },
  {
   "cell_type": "code",
   "execution_count": 20,
   "metadata": {},
   "outputs": [],
   "source": [
    "n=0\n",
    "manually_general_terms = ['agora', 'até', 'caso', 'como', 'consoante', 'e', 'geral', 'mais', 'mesmo', 'meus_sentimentos', 'pessoalmente', 'primeiro', 'se', 'segundo', 'último']\n",
    "with open(\"../Indicadores/preprocessed_indicators.txt\") as f:\n",
    "    indicators = [w.rstrip() for w in f.readlines()]"
   ]
  },
  {
   "cell_type": "code",
   "execution_count": 26,
   "metadata": {},
   "outputs": [
    {
     "output_type": "stream",
     "name": "stdout",
     "text": [
      "implica - 5\npressupõe\t0.822\tFalse\nimplicaria\t0.804\tFalse\nimplicava\t0.765\tFalse\nrequer\t0.753\tFalse\nimplicam\t0.74\tFalse\nacarreta\t0.73\tFalse\nimplicando\t0.718\tFalse\nexclui\t0.717\tFalse\njustifica\t0.716\tFalse\nisso_implica\t0.708\tTrue\n"
     ]
    }
   ],
   "source": [
    "indicator = unigrams[n]\n",
    "if (indicator in general_terms):\n",
    "    print('GENERAL TERM')\n",
    "print(indicator, '-', n)\n",
    "result = model.most_similar([indicator])\n",
    "result = [f\"{related_word}\\t{round(rate, 3)}\\t{related_word in indicators}\" for related_word, rate in result]\n",
    "    \n",
    "print(*result, sep='\\n')\n",
    "\n",
    "n+=1"
   ]
  },
  {
   "source": [
    "A celula a baixo cria uma lista cujos elementos são indicadores gerais. \\\n",
    "Estes indicadores gerais foram definidos da seguinte forma:\n",
    "Se o top 5 most similar de um indicador não for nenhum outro indicador presente da lista de indicadores, adicione este indicador como *geral*."
   ],
   "cell_type": "markdown",
   "metadata": {}
  },
  {
   "cell_type": "code",
   "execution_count": 56,
   "metadata": {},
   "outputs": [],
   "source": [
    "general_terms = list()\n",
    "for indicator in unigrams:\n",
    "    result = model.most_similar([indicator], topn=5)\n",
    "    if all((related_word not in indicators) for related_word, _ in result):\n",
    "        general_terms.append(indicator)"
   ]
  },
  {
   "cell_type": "code",
   "execution_count": 57,
   "metadata": {},
   "outputs": [
    {
     "output_type": "stream",
     "name": "stdout",
     "text": [
      "termos manuais contidos: ['consoante', 'último', 'pessoalmente', 'primeiro', 'segundo', 'geral']\ncomparacão com anterior ['dificilmente', 'acho', 'claramente', 'francamente', 'segundo', 'surpreendentemente']\n"
     ]
    }
   ],
   "source": [
    "print('termos manuais contidos:', [w for w in general_terms if w in manually_general_terms])\n",
    "print('comparacão com anterior', [w for w in general_terms if w not in old_general_terms])"
   ]
  },
  {
   "cell_type": "code",
   "execution_count": 61,
   "metadata": {},
   "outputs": [],
   "source": [
    "with open('../Indicadores/general_indicators.txt', 'wt') as f:\n",
    "    for w in general_terms:\n",
    "        f.write(w + '\\n')"
   ]
  },
  {
   "source": [
    "## Indicadores dentro do embedding"
   ],
   "cell_type": "markdown",
   "metadata": {}
  },
  {
   "cell_type": "code",
   "execution_count": 8,
   "metadata": {},
   "outputs": [],
   "source": [
    "qtd_indicadores = {}\n",
    "for indicador in open(\"../Indicadores/preprocessed_indicators.txt\"):\n",
    "    indicador = indicador.rstrip()\n",
    "    try:\n",
    "        qtd_indicadores[indicador] = model.wv.vocab[indicador].count\n",
    "    except:\n",
    "        qtd_indicadores[indicador] = 0"
   ]
  },
  {
   "cell_type": "code",
   "execution_count": 16,
   "metadata": {},
   "outputs": [
    {
     "output_type": "execute_result",
     "data": {
      "text/plain": [
       "{'nessa_perspectiva_de': 49379,\n",
       " 'isto_acarreta': 53674,\n",
       " 'concordo_totalmente': 65286,\n",
       " 'no_que_me_diz_respeito': 67565,\n",
       " 'no_meu_ponto_de_vista': 80953,\n",
       " 'faz-se_mister': 87214,\n",
       " 'como_considera': 107381,\n",
       " 'a_mesma_maneira': 123282,\n",
       " 'concordo_que': 134211,\n",
       " 'sob_essa_ótica': 149950,\n",
       " 'por_uma_coisa': 154912,\n",
       " 'não_fosse_isso': 170510,\n",
       " 'pela_razão_que': 209237,\n",
       " 'deve_ficar_claro_que': 209622,\n",
       " 'admitidamente': 217362,\n",
       " 'diante_do_exposto': 219067,\n",
       " 'como_salienta': 263843,\n",
       " 'é_devido_ao_fato_de_que': 273856,\n",
       " 'acho_isso': 274554,\n",
       " 'a_par_disso': 277929,\n",
       " 'se_acaso': 286934,\n",
       " 'a_alternativa_é': 299694,\n",
       " 'essa_é_a_razão_pela_qual': 304785,\n",
       " 'em_minha_opinião': 305718,\n",
       " 'irritantemente': 308154,\n",
       " 'é_altamente_provável': 313418,\n",
       " 'primeiro_de_tudo': 317527,\n",
       " 'concordo_com': 318554,\n",
       " 'podemos_deduzir': 324517,\n",
       " 'pode_ser_inferido': 330898,\n",
       " 'como_indicado_por': 336529,\n",
       " 'e_o_que_é_mais': 341476,\n",
       " 'se_sim': 355322,\n",
       " 'admito': 357671,\n",
       " 'não_se_pode_negar': 362240,\n",
       " 'parece-me_que': 363320,\n",
       " 'a_razão_é_que': 363862,\n",
       " 'meus_sentimentos': 365354,\n",
       " 'para_resumir': 379106,\n",
       " 'no_que_concerne_a': 379486,\n",
       " 'quando_menos': 388102,\n",
       " 'malgrado': 397803,\n",
       " 'destaca-se_que': 398387,\n",
       " 'pesquisadores_descobriram_que': 401970,\n",
       " 'deste_ponto_de_vista': 402011,\n",
       " 'no_tocante_a': 404628,\n",
       " 'com_o_fito_de': 405139,\n",
       " 'sinteticamente': 405168,\n",
       " 'é_dever': 405673,\n",
       " 'nessa_direção': 406595,\n",
       " 'de_sorte_que': 407826,\n",
       " 'na_minha_opinião': 407977,\n",
       " 'em_conclusão': 409271,\n",
       " 'na_medida_que': 410302,\n",
       " 'é_suportado_por': 413474,\n",
       " 'ressalta-se_que': 413851,\n",
       " 'quando_muito': 415310,\n",
       " 'salvo_se': 419500,\n",
       " 'isso_mostra_que': 420197,\n",
       " 'segue_de': 420488,\n",
       " 'no_que_tange_a': 421329,\n",
       " 'uma_das_principais_razões': 422167,\n",
       " 'exceto_se': 422670,\n",
       " 'fora_isso': 424624,\n",
       " 'de_outro_lado': 427478,\n",
       " 'deduzido': 427684,\n",
       " 'segue_que': 428050,\n",
       " 'acrescenta-se': 429403,\n",
       " 'o_que_é_mais': 430517,\n",
       " 'em_vista_de': 431794,\n",
       " 'honestamente': 432623,\n",
       " 'outrossim': 435578,\n",
       " 'no_todo': 437911,\n",
       " 'em_se_tratando_de': 438768,\n",
       " 'à_luz_de': 440096,\n",
       " 'em_face_de': 440157,\n",
       " 'por_comparação': 440572,\n",
       " 'isso_implica': 442501,\n",
       " 'prova_disso': 443627,\n",
       " 'em_certa_medida': 443899,\n",
       " 'no_mesmo_sentido': 444690,\n",
       " 'porquanto': 444864,\n",
       " 'tragicamente': 445780,\n",
       " 'do_contrário': 446081,\n",
       " 'alias': 446944,\n",
       " 'em_alguns_aspectos': 447560,\n",
       " 'francamente': 447744,\n",
       " 'é_preciso_que': 448194,\n",
       " 'acredito': 448782,\n",
       " 'por_sinal': 449059,\n",
       " 'decididamente': 449063,\n",
       " 'contanto_que': 449474,\n",
       " 'resumindo': 450096,\n",
       " 'em_síntese': 450539,\n",
       " 'conquanto': 451161,\n",
       " 'acho': 451196,\n",
       " 'diante_disso': 451357,\n",
       " 'em_verdade': 452191,\n",
       " 'em_qualquer_caso': 452356,\n",
       " 'como_mostrado': 453805,\n",
       " 'assumindo_que': 454306,\n",
       " 'naquilo': 454794,\n",
       " 'acredito_que': 455896,\n",
       " 'além_do_que': 456175,\n",
       " 'a_verdade_é': 456370,\n",
       " 'é_certo_que': 456449,\n",
       " 'indicado_por': 456567,\n",
       " 'em_resumo': 456716,\n",
       " 'é_claro_que': 458385,\n",
       " 'a_despeito_de': 458395,\n",
       " 'suavemente': 458621,\n",
       " 'logicamente': 459701,\n",
       " 'inversamente': 459702,\n",
       " 'a_não_ser_que': 459757,\n",
       " 'demonstra_que': 460772,\n",
       " 'contrariamente': 461878,\n",
       " 'além_do_mais': 462330,\n",
       " 'alternadamente': 462823,\n",
       " 'para_concluir': 463235,\n",
       " 'de_maneira_que': 463475,\n",
       " 'no_intuito': 463554,\n",
       " 'em_adição': 464231,\n",
       " 'em_suma': 464771,\n",
       " 'prova_que': 464866,\n",
       " 'tal_qual': 465021,\n",
       " 'posto_que': 465109,\n",
       " 'felizmente': 465255,\n",
       " 'conclui_que': 465525,\n",
       " 'similarmente': 465611,\n",
       " 'moderadamente': 466464,\n",
       " 'em_última_análise': 466514,\n",
       " 'tampouco': 466706,\n",
       " 'é_necessário_que': 467076,\n",
       " 'pode-se_dizer_que': 467285,\n",
       " 'é_verdade': 467432,\n",
       " 'para_tanto': 468084,\n",
       " 'isso_e': 468411,\n",
       " 'isso_significa_que': 468496,\n",
       " 'o_que_mais': 468773,\n",
       " 'com_certeza': 468798,\n",
       " 'em_lugar': 469016,\n",
       " 'ou_então': 469421,\n",
       " 'derivado_de': 469491,\n",
       " 'de_qualquer_forma': 469564,\n",
       " 'surpreendentemente': 469624,\n",
       " 'de_certa_forma': 469643,\n",
       " 'acima_de_tudo': 469685,\n",
       " 'em_conformidade': 469709,\n",
       " 'da_mesma_maneira': 469847,\n",
       " 'caso_contrário': 469900,\n",
       " 'por_essa_razão': 470050,\n",
       " 'dificilmente': 470501,\n",
       " 'menos_que': 470581,\n",
       " 'por_conseguinte': 470666,\n",
       " 'com_o_propósito_de': 470700,\n",
       " 'pelo_contrário': 470951,\n",
       " 'nem_mesmo': 471736,\n",
       " 'em_contrapartida': 471906,\n",
       " 'em_virtude_de': 472079,\n",
       " 'muito_menos': 472115,\n",
       " 'por_um_lado': 472478,\n",
       " 'com_efeito': 472582,\n",
       " 'de_um_lado': 472776,\n",
       " 'para_começar': 472902,\n",
       " 'obviamente': 473262,\n",
       " 'afinal': 473403,\n",
       " 'consoante': 473470,\n",
       " 'adicionalmente': 473569,\n",
       " 'em_outras_palavras': 473641,\n",
       " 'no_mínimo': 473808,\n",
       " 'a_menos_que': 473983,\n",
       " 'tendo_em_vista': 474070,\n",
       " 'corretamente': 474486,\n",
       " 'mostra_que': 474528,\n",
       " 'nesse_sentido': 474562,\n",
       " 'deste_modo': 474582,\n",
       " 'tanto_que': 474683,\n",
       " 'na_mesma_época': 474909,\n",
       " 'enfim': 474976,\n",
       " 'desse_modo': 475003,\n",
       " 'largamente': 475012,\n",
       " 'no_que_diz_respeito': 475114,\n",
       " 'notavelmente': 475428,\n",
       " 'sem_dúvida': 475671,\n",
       " 'a_ponto': 475710,\n",
       " 'ademais': 475785,\n",
       " 'não_obstante': 475788,\n",
       " 'provou': 475842,\n",
       " 'acho_que': 475946,\n",
       " 'dado_que': 475970,\n",
       " 'na_tentativa_de': 476001,\n",
       " 'no_geral': 476197,\n",
       " 'sequer': 476379,\n",
       " 'a_princípio': 476456,\n",
       " 'indica_que': 476734,\n",
       " 'de_forma_que': 476799,\n",
       " 'o_motivo': 476890,\n",
       " 'infelizmente': 476929,\n",
       " 'em_consequência': 476935,\n",
       " 'como_consequência': 476967,\n",
       " 'sem_que': 477256,\n",
       " 'implica': 477405,\n",
       " 'em_decorrência': 477422,\n",
       " 'mas_ainda': 477509,\n",
       " 'justamente': 477514,\n",
       " 'ao_menos': 477622,\n",
       " 'mais_ou_menos': 477680,\n",
       " 'brevemente': 477715,\n",
       " 'em_contraste': 477727,\n",
       " 'relatado': 477825,\n",
       " 'pessoalmente': 477905,\n",
       " 'em_segundo_lugar': 478005,\n",
       " 'sugere_que': 478061,\n",
       " 'sendo_assim': 478438,\n",
       " 'efetivamente': 478443,\n",
       " 'certamente': 478502,\n",
       " 'apesar_disso': 478552,\n",
       " 'ligeiramente': 478656,\n",
       " 'em_primeiro_lugar': 478731,\n",
       " 'literalmente': 478820,\n",
       " 'ou_mesmo': 478842,\n",
       " 'para_isso': 478893,\n",
       " 'se_não': 478962,\n",
       " 'como_também': 479034,\n",
       " 'da_mesma_forma': 479164,\n",
       " 'mais_que': 479340,\n",
       " 'dessa_forma': 479361,\n",
       " 'claramente': 479492,\n",
       " 'em_função': 479597,\n",
       " 'visto_que': 479630,\n",
       " 'visando': 479720,\n",
       " 'todavia': 479754,\n",
       " 'ao_invés_de': 479809,\n",
       " 'desta_forma': 479811,\n",
       " 'de_modo_que': 479878,\n",
       " 'em_parte': 479976,\n",
       " 'consequentemente': 480052,\n",
       " 'definitivamente': 480064,\n",
       " 'no_total': 480131,\n",
       " 'à_medida_que': 480160,\n",
       " 'envolve': 480218,\n",
       " 'parcialmente': 480237,\n",
       " 'por_fim': 480329,\n",
       " 'mesmo_que': 480487,\n",
       " 'à_época': 480608,\n",
       " 'não_só': 480790,\n",
       " 'em_particular': 480950,\n",
       " 'desde_que': 480951,\n",
       " 'em_conjunto': 480998,\n",
       " 'com_o_objetivo_de': 481030,\n",
       " 'com_isso': 481068,\n",
       " 'por_outro_lado': 481220,\n",
       " 'amplamente': 481236,\n",
       " 'como_se': 481267,\n",
       " 'possivelmente': 481281,\n",
       " 'igualmente': 481300,\n",
       " 'a_seguir': 481331,\n",
       " 'de_fato': 481369,\n",
       " 'como_resultado': 481399,\n",
       " 'na_verdade': 481417,\n",
       " 'claro': 481423,\n",
       " 'até_mesmo': 481427,\n",
       " 'praticamente': 481558,\n",
       " 'ainda_que': 481616,\n",
       " 'isto_é': 481621,\n",
       " 'ao_contrário': 481672,\n",
       " 'enquanto_que': 481675,\n",
       " 'sobretudo': 481676,\n",
       " 'realmente': 481687,\n",
       " 'no_caso': 481823,\n",
       " 'um_pouco': 481824,\n",
       " 'por_sua_vez': 481895,\n",
       " 'simplesmente': 481973,\n",
       " 'a_fim_de': 482000,\n",
       " 'em_vez': 482061,\n",
       " 'a_única': 482148,\n",
       " 'mas_também': 482174,\n",
       " 'o_único': 482210,\n",
       " 'inclusive': 482213,\n",
       " 'por_isso': 482214,\n",
       " 'pelo_menos': 482234,\n",
       " 'conforme': 482280,\n",
       " 'anteriormente': 482348,\n",
       " 'por_causa': 482350,\n",
       " 'uma_vez_que': 482403,\n",
       " 'desde_a': 482441,\n",
       " 'ou_seja': 482525,\n",
       " 'contudo': 482549,\n",
       " 'já_que': 482604,\n",
       " 'finalmente': 482618,\n",
       " 'portanto': 482656,\n",
       " 'nem': 482677,\n",
       " 'entretanto': 482729,\n",
       " 'tipo_de': 482733,\n",
       " 'próximo': 482735,\n",
       " 'tão': 482768,\n",
       " 'especialmente': 482782,\n",
       " 'devido_a': 482785,\n",
       " 'além_disso': 482833,\n",
       " 'somente': 482838,\n",
       " 'assim_como': 482845,\n",
       " 'para_que': 482858,\n",
       " 'aproximadamente': 482865,\n",
       " 'e_não': 482879,\n",
       " 'bem_como': 482896,\n",
       " 'agora': 482902,\n",
       " 'quanto': 482959,\n",
       " 'porque': 482960,\n",
       " 'apesar_de': 482963,\n",
       " 'posteriormente': 482989,\n",
       " 'novamente': 482995,\n",
       " 'por_exemplo': 483009,\n",
       " 'tanto': 483010,\n",
       " 'caso': 483015,\n",
       " 'último': 483034,\n",
       " 'além': 483054,\n",
       " 'logo': 483057,\n",
       " 'quase': 483059,\n",
       " 'principalmente': 483065,\n",
       " 'geral': 483100,\n",
       " 'só': 483103,\n",
       " 'pois': 483116,\n",
       " 'além_de': 483138,\n",
       " 'incluindo': 483147,\n",
       " 'porém': 483156,\n",
       " 'no_entanto': 483168,\n",
       " 'de_acordo': 483187,\n",
       " 'embora': 483188,\n",
       " 'assim': 483212,\n",
       " 'enquanto': 483253,\n",
       " 'desde': 483267,\n",
       " 'então': 483294,\n",
       " 'já': 483301,\n",
       " 'apenas': 483303,\n",
       " 'ainda': 483309,\n",
       " 'mesmo': 483315,\n",
       " 'segundo': 483317,\n",
       " 'primeiro': 483324,\n",
       " 'quando': 483337,\n",
       " 'até': 483338,\n",
       " 'mas': 483343,\n",
       " 'ou': 483350,\n",
       " 'também': 483351,\n",
       " 'mais': 483358,\n",
       " 'se': 483361,\n",
       " 'como': 483364,\n",
       " 'para': 483370,\n",
       " 'que': 483375,\n",
       " 'e': 483380}"
      ]
     },
     "metadata": {},
     "execution_count": 16
    }
   ],
   "source": [
    "# {indicator: amount in corpus}\n",
    "{i: qtd_indicadores[i] for i in sorted(qtd_indicadores, key=qtd_indicadores.get)}"
   ]
  },
  {
   "cell_type": "code",
   "execution_count": null,
   "metadata": {},
   "outputs": [],
   "source": []
  }
 ]
}