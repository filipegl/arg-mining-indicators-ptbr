{
 "cells": [
  {
   "cell_type": "code",
   "execution_count": 3,
   "metadata": {},
   "outputs": [],
   "source": [
    "import string\n",
    "import re\n",
    "import multiprocessing"
   ]
  },
  {
   "cell_type": "code",
   "execution_count": 4,
   "metadata": {},
   "outputs": [
    {
     "name": "stdout",
     "output_type": "stream",
     "text": [
      "CPU times: user 25.1 s, sys: 1.39 s, total: 26.5 s\n",
      "Wall time: 26.5 s\n"
     ]
    }
   ],
   "source": [
    "%%time\n",
    "with open('ptwiki-latest-pages-articles.txt') as f:\n",
    "    wiki_dump = [line for line in f if len(line.split()) > 10]\n",
    "with open('../Indicadores/preprocessed_indicators.txt') as f:\n",
    "    indicators = [w.rstrip().replace(\"_\", \" \") for w in f if \"_\" in w]"
   ]
  },
  {
   "cell_type": "code",
   "execution_count": 5,
   "metadata": {},
   "outputs": [],
   "source": [
    "punctuation = string.punctuation \\\n",
    "        .replace('-', '') \\\n",
    "        .replace('_', '')\n",
    "\n",
    "punctuation = r\"[{}]\".format(punctuation)\n",
    "re_remove_html = re.compile(r'<(\\/|\\\\)?.+?>', re.UNICODE)\n",
    "re_transform_emails = re.compile(r'[^\\s]+@[^\\s]+', re.UNICODE)\n",
    "re_transform_url = re.compile(r'(http|https)://[^\\s]+', re.UNICODE)\n",
    "re_transform_numbers = re.compile(r' \\d+ ', re.UNICODE)\n",
    "re_trim = re.compile(r' +', re.UNICODE)\n",
    "re_tree_dots = re.compile(u'…', re.UNICODE)\n",
    "def clean(text):\n",
    "    text = text.lower()\n",
    "    text = text.replace('\\xa0', ' ')\n",
    "    text = re_tree_dots.sub(' ', text)\n",
    "    text = re_transform_url.sub('URL', text)\n",
    "    text = re_transform_emails.sub('EMAIL', text)\n",
    "    \n",
    "    text = re.sub(punctuation, \" \", text)\n",
    "    text = re_transform_numbers.sub('0', text)\n",
    "    text = re_trim.sub(' ', text)\n",
    "#     text = text.split()\n",
    "#     text = list(filter(lambda w: w not in stopwords, text))\n",
    "#     text = ' '.join(text)\n",
    "    for indicator in indicators:\n",
    "            text = re.sub(fr'\\b{indicator}\\b', indicator.replace(\" \", \"_\"), text)\n",
    "\n",
    "    return text.strip()"
   ]
  },
  {
   "cell_type": "code",
   "execution_count": 6,
   "metadata": {},
   "outputs": [
    {
     "name": "stdout",
     "output_type": "stream",
     "text": [
      "CPU times: user 18.3 s, sys: 7.92 s, total: 26.2 s\n",
      "Wall time: 56min 43s\n"
     ]
    }
   ],
   "source": [
    "%%time\n",
    "pool = multiprocessing.Pool(processes=8)\n",
    "wiki_dump = pool.map(clean, wiki_dump)"
   ]
  },
  {
   "cell_type": "code",
   "execution_count": 4,
   "metadata": {},
   "outputs": [
    {
     "data": {
      "text/plain": [
       "'Astronomia é uma ciência natural que estuda corpos celestes (como estrelas, planetas, cometas, nebulosas, aglomerados de estrelas, galáxias) e fenômenos que se originam fora da atmosfera da Terra (como a radiação cósmica de fundo em micro-ondas). Preocupada com a evolução, a física, a química e o movimento de objetos celestes, bem como a formação e o desenvolvimento do universo.\\n'"
      ]
     },
     "execution_count": 4,
     "metadata": {},
     "output_type": "execute_result"
    }
   ],
   "source": [
    "wiki_dump[0]"
   ]
  },
  {
   "cell_type": "code",
   "execution_count": 7,
   "metadata": {},
   "outputs": [
    {
     "data": {
      "text/plain": [
       "'astronomia é uma ciência natural que estuda corpos celestes como estrelas planetas cometas nebulosas aglomerados de estrelas galáxias e fenômenos que se originam fora da atmosfera da terra como a radiação cósmica de fundo em micro-ondas preocupada com a evolução a física a química e o movimento de objetos celestes bem_como a formação e o desenvolvimento do universo'"
      ]
     },
     "execution_count": 7,
     "metadata": {},
     "output_type": "execute_result"
    }
   ],
   "source": [
    "wiki_dump[0]"
   ]
  },
  {
   "cell_type": "code",
   "execution_count": 8,
   "metadata": {},
   "outputs": [],
   "source": [
    "with open(\"ptwiki-preprocessed.txt\", 'wt') as f:\n",
    "    for text in wiki_dump:\n",
    "        f.write(text)\n"
   ]
  },
  {
   "cell_type": "code",
   "execution_count": 2,
   "metadata": {},
   "outputs": [],
   "source": [
    "with open(\"ptwiki-preprocessed-test.txt\", 'wt') as f:\n",
    "    f.writelines(['a', 'bece', 'deefffe', 'hagar\\nfilipe'])\n"
   ]
  },
  {
   "cell_type": "code",
   "execution_count": null,
   "metadata": {},
   "outputs": [],
   "source": []
  }
 ],
 "metadata": {
  "kernelspec": {
   "display_name": "Python 3",
   "language": "python",
   "name": "python3"
  },
  "language_info": {
   "codemirror_mode": {
    "name": "ipython",
    "version": 3
   },
   "file_extension": ".py",
   "mimetype": "text/x-python",
   "name": "python",
   "nbconvert_exporter": "python",
   "pygments_lexer": "ipython3",
   "version": "3.8.5"
  }
 },
 "nbformat": 4,
 "nbformat_minor": 2
}
