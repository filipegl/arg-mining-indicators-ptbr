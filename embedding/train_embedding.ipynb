{
 "metadata": {
  "language_info": {
   "codemirror_mode": {
    "name": "ipython",
    "version": 3
   },
   "file_extension": ".py",
   "mimetype": "text/x-python",
   "name": "python",
   "nbconvert_exporter": "python",
   "pygments_lexer": "ipython3",
   "version": "3.8.5-final"
  },
  "orig_nbformat": 2,
  "kernelspec": {
   "name": "python3",
   "display_name": "Python 3.8.5 64-bit",
   "metadata": {
    "interpreter": {
     "hash": "7569cdafdd0fbac8a06362258c89059823a624da1480ad35a560c93b353fa607"
    }
   }
  }
 },
 "nbformat": 4,
 "nbformat_minor": 2,
 "cells": [
  {
   "cell_type": "code",
   "execution_count": 1,
   "metadata": {},
   "outputs": [],
   "source": [
    "import gensim.models"
   ]
  },
  {
   "cell_type": "code",
   "execution_count": 2,
   "metadata": {},
   "outputs": [],
   "source": [
    "class MyCorpus:\n",
    "    \"\"\"An iterator that yields sentences (lists of str).\"\"\"\n",
    "\n",
    "    def __iter__(self):\n",
    "        for line in open('ptwiki-preprocessed.txt'):\n",
    "            # assume there's one document per line, tokens separated by whitespace\n",
    "            yield line.split()"
   ]
  },
  {
   "cell_type": "code",
   "execution_count": 3,
   "metadata": {},
   "outputs": [
    {
     "output_type": "stream",
     "name": "stdout",
     "text": [
      "CPU times: user 2h 50min 35s, sys: 1min 19s, total: 2h 51min 54s\nWall time: 43min 6s\n"
     ]
    }
   ],
   "source": [
    "%%time\n",
    "sentences = MyCorpus()\n",
    "model = gensim.models.Word2Vec(sentences=sentences, size=300, workers=7)"
   ]
  },
  {
   "cell_type": "code",
   "execution_count": 4,
   "metadata": {},
   "outputs": [],
   "source": [
    "model.wv.save_word2vec_format(\"w2v-v1.wordvectors\")"
   ]
  },
  {
   "cell_type": "code",
   "execution_count": 10,
   "metadata": {},
   "outputs": [
    {
     "output_type": "execute_result",
     "data": {
      "text/plain": [
       "[('hoje', 0.5708661079406738),\n",
       " ('então', 0.5505373477935791),\n",
       " ('aqui', 0.48659271001815796),\n",
       " ('atualmente', 0.4769647717475891),\n",
       " ('realmente', 0.46325021982192993),\n",
       " ('porque', 0.4346069097518921),\n",
       " ('quando', 0.4328819513320923),\n",
       " ('na_verdade', 0.4299781918525696),\n",
       " ('actualmente', 0.4217636287212372),\n",
       " ('por_isso', 0.42075681686401367)]"
      ]
     },
     "metadata": {},
     "execution_count": 10
    }
   ],
   "source": [
    "model.wv.most_similar('agora')"
   ]
  },
  {
   "cell_type": "code",
   "execution_count": null,
   "metadata": {},
   "outputs": [],
   "source": []
  }
 ]
}