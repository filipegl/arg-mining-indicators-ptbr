{
 "cells": [
  {
   "cell_type": "code",
   "execution_count": 1,
   "metadata": {},
   "outputs": [],
   "source": [
    "import string\n",
    "import re\n",
    "import multiprocessing"
   ]
  },
  {
   "cell_type": "code",
   "execution_count": 2,
   "metadata": {},
   "outputs": [
    {
     "name": "stdout",
     "output_type": "stream",
     "text": [
      "CPU times: user 24.5 s, sys: 1.18 s, total: 25.7 s\n",
      "Wall time: 25.7 s\n"
     ]
    }
   ],
   "source": [
    "%%time\n",
    "with open('ptwiki-latest-pages-articles.txt') as f:\n",
    "    wiki_dump = [line for line in f if len(line.split()) > 10]\n",
    "with open('../Indicadores/preprocessed_indicators.txt') as f:\n",
    "    indicators = [w.rstrip().replace(\"_\", \" \") for w in f if \"_\" in w]"
   ]
  },
  {
   "cell_type": "code",
   "execution_count": 3,
   "metadata": {},
   "outputs": [],
   "source": [
    "punctuation = string.punctuation \\\n",
    "        .replace('-', '') \\\n",
    "        .replace('_', '')\n",
    "punctuation += \"—«»\"\n",
    "punctuation = r\"[{}]\".format(punctuation)\n",
    "re_remove_html = re.compile(r'<(\\/|\\\\)?.+?>', re.UNICODE)\n",
    "re_transform_emails = re.compile(r'[^\\s]+@[^\\s]+', re.UNICODE)\n",
    "re_transform_url = re.compile(r'(http|https)://[^\\s]+', re.UNICODE)\n",
    "re_transform_numbers = re.compile(r'\\b\\d+[ªº°]*\\b', re.UNICODE)\n",
    "re_trim = re.compile(r' +', re.UNICODE)\n",
    "re_tree_dots = re.compile(u'…', re.UNICODE)\n",
    "def clean(text):\n",
    "    text = text.lower()\n",
    "    text = text.replace('\\xa0', ' ')\n",
    "    text = re_tree_dots.sub(' ', text)\n",
    "    text = re_transform_url.sub('URL', text)\n",
    "    text = re_transform_emails.sub('EMAIL', text)\n",
    "    \n",
    "    text = re.sub(punctuation, \" \", text)\n",
    "    text = re_transform_numbers.sub('0', text)\n",
    "    text = re_trim.sub(' ', text)\n",
    "#     text = text.split()\n",
    "#     text = list(filter(lambda w: w not in stopwords, text))\n",
    "#     text = ' '.join(text)\n",
    "    for indicator in indicators:\n",
    "            text = re.sub(fr'\\b{indicator}\\b', indicator.replace(\" \", \"_\"), text)\n",
    "\n",
    "    return text.strip()"
   ]
  },
  {
   "cell_type": "code",
   "execution_count": 4,
   "metadata": {},
   "outputs": [
    {
     "name": "stdout",
     "output_type": "stream",
     "text": [
      "CPU times: user 18.7 s, sys: 8.52 s, total: 27.2 s\n",
      "Wall time: 57min 42s\n"
     ]
    },
    {
     "name": "stderr",
     "output_type": "stream",
     "text": [
      "Process ForkPoolWorker-3:\n",
      "Process ForkPoolWorker-2:\n",
      "Process ForkPoolWorker-7:\n",
      "Process ForkPoolWorker-4:\n",
      "Process ForkPoolWorker-1:\n",
      "Process ForkPoolWorker-8:\n",
      "Traceback (most recent call last):\n",
      "Traceback (most recent call last):\n",
      "Traceback (most recent call last):\n"
     ]
    }
   ],
   "source": [
    "%%time\n",
    "pool = multiprocessing.Pool(processes=8)\n",
    "wiki_dump = pool.map(clean, wiki_dump)"
   ]
  },
  {
   "cell_type": "code",
   "execution_count": 5,
   "metadata": {},
   "outputs": [],
   "source": [
    "with open(\"ptwiki-preprocessed.txt\", 'wt') as f:\n",
    "    for text in wiki_dump:\n",
    "        f.write(text+'\\n')\n"
   ]
  },
  {
   "cell_type": "code",
   "execution_count": null,
   "metadata": {},
   "outputs": [],
   "source": []
  }
 ],
 "metadata": {
  "kernelspec": {
   "display_name": "Python 3",
   "language": "python",
   "name": "python3"
  },
  "language_info": {
   "codemirror_mode": {
    "name": "ipython",
    "version": 3
   },
   "file_extension": ".py",
   "mimetype": "text/x-python",
   "name": "python",
   "nbconvert_exporter": "python",
   "pygments_lexer": "ipython3",
   "version": "3.8.5"
  }
 },
 "nbformat": 4,
 "nbformat_minor": 2
}
